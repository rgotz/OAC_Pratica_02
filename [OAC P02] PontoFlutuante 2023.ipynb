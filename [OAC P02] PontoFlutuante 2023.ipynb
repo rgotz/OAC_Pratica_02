{
 "cells": [
  {
   "cell_type": "markdown",
   "metadata": {},
   "source": [
    "## OAC - Prática 02\n",
    "### Ponto-Flutuante IEEE-754 SP\n",
    "\n",
    "#### Introdução\n",
    "\n",
    "Site externo para apoio: [https://www.h-schmidt.net/FloatConverter/IEEE754.html](https://www.h-schmidt.net/FloatConverter/IEEE754.html) \n",
    "\n",
    "Outros sites utilizados:\n",
    "- [RandomASCII](https://randomascii.wordpress.com/category/floating-point/) \n",
    "- [Wikipedia](https://en.wikipedia.org/wiki/IEEE_754)<sub>porque não, certo?</sub> \n"
   ]
  },
  {
   "cell_type": "markdown",
   "metadata": {},
   "source": [
    "#### Python vs ctypes\n",
    "\n",
    "Para as nossas atividades, utilizaremos o formato IEEE-754 SP. Porém, Python representa números reais com o formato IEEE-754 DP, com 8 bytes (pf64|11|52), tornanto a vida do _escovador de bits_ um pouco árdua. \n",
    "\n",
    "Para contornar essa situação, invocaremos a biblioteca Python de compatibilidade com tipos da Linguagem de Programação C, chamada de `ctypes`, abusaremos dos tipos `int` (32bits) e `float` (32bits) e ganharemos de brinde a estrutura `Union`.\n"
   ]
  },
  {
   "cell_type": "code",
   "execution_count": 1,
   "metadata": {},
   "outputs": [
    {
     "name": "stdout",
     "output_type": "stream",
     "text": [
      "num1 = 1.0\n",
      "num2 = 0x40490f67\n"
     ]
    }
   ],
   "source": [
    "# nosso primeiro teste com ctypes, union e float\n",
    "from ctypes import (Union, c_int, c_float)\n",
    "\n",
    "class tipo_union(Union):\n",
    "    _fields_ = (\"int\", c_int), (\"float\",c_float)\n",
    "\n",
    "num1 = tipo_union()\n",
    "num1.int = 0x3f800000\n",
    "print(\"num1 =\", num1.float)\n",
    "\n",
    "num2 = tipo_union()\n",
    "num2.float = 3.141565\n",
    "print(\"num2 =\", hex(num2.int))\n"
   ]
  },
  {
   "cell_type": "markdown",
   "metadata": {},
   "source": [
    "#### Getter e Setter para sinal e expoente \n",
    "\n",
    "Graças à estrutura `Union`, agora que podemos determinar todos os bits em hexadecimal (`inteiros`) e interpretá-los como `float`. Com isso, podemos elaborar métodos que configuram especificamente os campos `sinal`, `expoente` e `significando` utilizando a magia das instruções `shift`, `and` e `or`."
   ]
  },
  {
   "cell_type": "code",
   "execution_count": 2,
   "metadata": {},
   "outputs": [
    {
     "name": "stdout",
     "output_type": "stream",
     "text": [
      " sinal: 0\n",
      "  expd: 0\n",
      "  expk: 127\n",
      "signi1: 0x0 (extração direta, normalizada)\n",
      "signi2: 0x800000 (extração adicionando '1' implícito)\n",
      "sinal or : 1.0\n",
      "sinal new: -1.0\n",
      "  ek = 8: 256.0\n",
      "ed = 136: 512.0\n"
     ]
    }
   ],
   "source": [
    "def get_sinal(n: int) -> int:\n",
    "    \"\"\"\n",
    "    retorna 0 para (float) n positivo ou 1 para (float) n negativo\n",
    "    \"\"\"\n",
    "    return (n.int >> 31) & 0x00000001\n",
    "\n",
    "def set_sinal(n: int, sinal: int) -> int:\n",
    "    \"\"\"\n",
    "    configura o (int) sinal \n",
    "    \"\"\"\n",
    "    return (sinal << 31) | n.int\n",
    "\n",
    "def get_exp(n, k = False) -> int:\n",
    "    \"\"\"\n",
    "    retorna os 8 bits expoente de (float) n no LSb\n",
    "    \"\"\"\n",
    "    return (n.int >> 23) & 0x000000ff if k else ((n.int >> 23) & 0x000000ff) - 127\n",
    "\n",
    "def set_exp(n:int, exp: int, k = False):\n",
    "    \"\"\"\n",
    "    configura expoente de (float) n\n",
    "    ----------\n",
    "    n: int \n",
    "        valor, preferencialmente inteiro, para configuração de expoente\n",
    "    exp: int\n",
    "        valor a ser configurado como expoente, em int ou offset-binary (k)\n",
    "    k: bool\n",
    "        fator-k presente (True) ou não presente (False) em parâmetro exp\n",
    "    \"\"\"\n",
    "    exp = exp if k else exp + 127\n",
    "    exp = (exp << 23) & 0x7f800000      # limpa possível residuo em MSb\n",
    "    return (n.int & 0x807fffff) | exp   # limpa exp original e substitui por novo exp\n",
    "\n",
    "def get_significando(n: int, normalizado = True) -> int:\n",
    "    \"\"\"\n",
    "    retorna o significando\n",
    "    ----------\n",
    "    n: int \n",
    "        valor, preferencialmente inteiro, para configuração de significando\n",
    "    normalizado: Bool\n",
    "        indica se retorno será normalizado (True / bit implícito) ou não (False / bit explícito)\n",
    "    ----------\n",
    "    Retorna n, sendo somente significando, excluindo bit de sinal e bits exp\n",
    "    \"\"\"\n",
    "    return ((n.int & 0x007fffff) | 0x00800000) if not normalizado else (n.int & 0x007fffff)\n",
    "\n",
    "def set_significando(n: int, significando: int, normalizado = True) -> int:\n",
    "    \"\"\"\n",
    "    configura o significando de (float) n\n",
    "    ----------\n",
    "    n: int \n",
    "        valor, preferencialmente inteiro, para configuração de significando\n",
    "    normalizado: Bool\n",
    "        indica se o parâmetro n está normalizado (True / bit implícito) ou não (False / bit explícito)\n",
    "    ----------\n",
    "    Retorna n como um float completo\n",
    "    \"\"\"\n",
    "    \n",
    "    # TODO pelo aluno\n",
    "    \n",
    "    pass\n",
    "\n",
    "\n",
    "\n",
    "num1 = tipo_union()\n",
    "num1.int = 0x3f800000 # 0xbf800000\n",
    "print(\" sinal:\",get_sinal(num1))\n",
    "print(\"  expd:\",get_exp(num1))\n",
    "print(\"  expk:\",get_exp(num1,True))\n",
    "print(\"signi1:\", hex(get_significando(num1, True)), \"(extração direta, normalizada)\")\n",
    "print(\"signi2:\", hex(get_significando(num1, False)), \"(extração adicionando '1' implícito)\")\n",
    "\n",
    "num3 = tipo_union()\n",
    "num3.int = set_sinal(num1,1)\n",
    "print(\"sinal or :\", num1.float)\n",
    "print(\"sinal new:\", num3.float)\n",
    "\n",
    "num3.int = set_exp(num1, 8)\n",
    "print(\"  ek = 8:\", num3.float)\n",
    "num3.int = set_exp(num1, 136, True)\n",
    "print(\"ed = 136:\", num3.float)"
   ]
  },
  {
   "cell_type": "markdown",
   "metadata": {},
   "source": [
    "### Atividade 01: getter e setter ausentes\n",
    "\n",
    "Considerando o código getter e setter para sinal e significando, adicione os métodos `get_exp` e `set_significando` na Célula acima e realize testes."
   ]
  },
  {
   "cell_type": "markdown",
   "metadata": {},
   "source": [
    "### ULP 01 (Unit of Least Precision)\n",
    "Considerando expoente e<sub>d</sub> = 0, encontrar: \n",
    "\n",
    "| variável | descrição|\n",
    "|---------|-------------------------------------| \n",
    "|`nPiso`  | menor valor representável|\n",
    "|`nPiso2` | segundo menor valor representável\n",
    "|`diff`   |diferença entre `nPiso` e `nPiso2`\n",
    "|`nTeto`  |maior valor representável\n",
    "\n",
    "Após, criar uma lista com todos os números entre `nPiso` e `nTeto`, acumulando `diff`, e plotar um gráfico de linha relacionando cada valor da lista de acumulados com sua posição"
   ]
  },
  {
   "cell_type": "code",
   "execution_count": 3,
   "metadata": {},
   "outputs": [
    {
     "name": "stdout",
     "output_type": "stream",
     "text": [
      "nPiso  =1.0000000000000000000000000\n",
      "nPiso2 =1.0000001192092895507812500\n",
      "nTeto  =1.9999998807907104492187500\n",
      "diferença entre nPiso e nPiso2  = 0.0000001192092895507812500\n",
      "iterações de soma = 8.388.608\n",
      "total acumulado   = 2.0000000000000000000000000\n"
     ]
    },
    {
     "data": {
      "image/png": "[encoded data removed]",
      "text/plain": [
       "<Figure size 640x480 with 1 Axes>"
      ]
     },
     "metadata": {},
     "output_type": "display_data"
    }
   ],
   "source": [
    "import matplotlib.pyplot as plt\n",
    "\n",
    "# positivo, expoente 0d e significando = 0 (significando mínimo)\n",
    "# menor valor com expoente 0d\n",
    "nPiso = tipo_union()\n",
    "nPiso.int = 0x3f800000\n",
    "print(\"nPiso  ={:.25f}\".format(nPiso.float))\n",
    "\n",
    "nPiso2 = tipo_union()\n",
    "nPiso2.int = 0x3f800001\n",
    "print(\"nPiso2 ={:.25f}\".format(nPiso2.float))\n",
    "\n",
    "# positivo, expoente 0d e significando máximo\n",
    "# maior valor com expoente 0d\n",
    "nTeto = tipo_union()\n",
    "nTeto.int = 0x3fffffff\n",
    "print(\"nTeto  ={:.25f}\".format(nTeto.float))\n",
    "\n",
    "diff = (nPiso2.float - nPiso.float)\n",
    "print(\"diferença entre nPiso e nPiso2  = {:.25f}\".format(diff))\n",
    "\n",
    "ac = nPiso.float\n",
    "i = 0\n",
    "graphY = []\n",
    "while(ac <= nTeto.float):\n",
    "    graphY.append(ac)\n",
    "    i = i+1\n",
    "    ac = ac + diff\n",
    "    \n",
    "    \n",
    "graphX = range(i)\n",
    "\n",
    "print(\"iterações de soma = {:,}\".format(i).replace(\",\",\".\"))\n",
    "print(\"total acumulado   = {:.25f}\".format(ac))\n",
    "\n",
    "fig, ax = plt.subplots()\n",
    "ax.set_xlabel('iterações')\n",
    "ax.set_ylabel('ac acumulado')\n",
    "ax.plot(graphX, graphY, linewidth=2.0)\n",
    "plt.show()"
   ]
  },
  {
   "cell_type": "markdown",
   "metadata": {},
   "source": [
    "#### ULP 01 - Extra \n",
    "O _gap_ para e<sub>d</sub> = 0 pode é realmente estimado por 2^(e<sub>d</sub>-p) ?\n"
   ]
  },
  {
   "cell_type": "code",
   "execution_count": 4,
   "metadata": {},
   "outputs": [
    {
     "name": "stdout",
     "output_type": "stream",
     "text": [
      "ULP para ed = 0 é 0.0000001192092895507812500\n"
     ]
    }
   ],
   "source": [
    "d = 0\n",
    "gap = 2**(d-23)\n",
    "print(\"ULP para ed = {} é {:,.25f}\".format(d,gap).replace(\",\",\".\"))"
   ]
  },
  {
   "cell_type": "markdown",
   "metadata": {},
   "source": [
    "### Atividade 02: ULP 02\n",
    "\n",
    "Refazer o código ULP 01, porém para e<sub>d</sub> = 30\n",
    "- Observe o número de iterações e o total acumulado"
   ]
  },
  {
   "cell_type": "code",
   "execution_count": 5,
   "metadata": {},
   "outputs": [
    {
     "ename": "SyntaxError",
     "evalue": "invalid syntax (2209037660.py, line 4)",
     "output_type": "error",
     "traceback": [
      "\u001b[1;36m  Cell \u001b[1;32mIn[5], line 4\u001b[1;36m\u001b[0m\n\u001b[1;33m    nPiso.int = ?????\u001b[0m\n\u001b[1;37m                ^\u001b[0m\n\u001b[1;31mSyntaxError\u001b[0m\u001b[1;31m:\u001b[0m invalid syntax\n"
     ]
    }
   ],
   "source": [
    "   \n",
    "# positivo, expoente 30d e significando = 0 (significando mínimo)\n",
    "# menor valor com expoente 30d\n",
    "nPiso = tipo_union()\n",
    "nPiso.int = ?????\n",
    "print(\"nPiso  ={:.25f}\".format(nPiso.float))\n",
    "\n",
    "# positivo, expoente 30d e significando = 1 (segundo significando mínimo)\n",
    "nPiso2 = tipo_union()\n",
    "nPiso2.int = ?????\n",
    "print(\"nPiso2 ={:.25f}\".format(nPiso2.float))\n",
    "\n",
    "# positivo, expoente 30d e significando máximo\n",
    "# maior valor com expoente 30d\n",
    "nTeto = tipo_union()\n",
    "nTeto.int = ?????\n",
    "print(\"nTeto  ={:.25f}\".format(nTeto.float))\n",
    "\n",
    "diff = (nPiso2.float - nPiso.float)\n",
    "print(\"diferença entre nPiso e nPiso2  = {:.25f}\".format(diff))\n",
    "\n",
    "# continue o código"
   ]
  },
  {
   "cell_type": "markdown",
   "metadata": {},
   "source": [
    "#### ULPs de ePiso e eTeto para menor e maior expoentes (números positivos normalizados) para IEEE-754 SP\n",
    "\n",
    "Encontrar o valor do menor e maior expoente para números positivos normalizados, sendo\n",
    "- ePiso: menor expoente é e<sub>k</sub> = 00000001<sub>b</sub> = -126<sub>d</sub>\n",
    "- eTeto: maior expoente é e<sub>k</sub> = 11111110<sub>b</sub> = 127<sub>d</sub>\n",
    "\n",
    "Encontrar ULPs para ePiso e eTeto"
   ]
  },
  {
   "cell_type": "code",
   "execution_count": 6,
   "metadata": {},
   "outputs": [
    {
     "name": "stdout",
     "output_type": "stream",
     "text": [
      "ULP para ed = -126 é 1.401298E-45 (0.000000000000000000000000000000000000000000001401298464324817)\n",
      "ULP para ed = 127 é 2.028241E+31 (20.282.409.603.651.670.423.947.251.286.016)\n"
     ]
    }
   ],
   "source": [
    "ePiso = -126\n",
    "eTeto = 127\n",
    "ulpPiso = 2**(ePiso-23)\n",
    "ulpTeto = 2**(eTeto-23)\n",
    "print(\"ULP para ed = {} é {:E} ({:,.60f})\".format(ePiso,ulpPiso,ulpPiso).replace(\",\",\".\"))\n",
    "print(\"ULP para ed = {} é {:E} ({:,})\".format(eTeto,ulpTeto,ulpTeto).replace(\",\",\".\"))"
   ]
  },
  {
   "cell_type": "markdown",
   "metadata": {},
   "source": [
    "#### Gráfico de ULPs \n",
    "Considerando o ePiso e eTeto anteriores, construir um gráfico contendo TODOS os ULPs dos números positivos \n",
    "\n",
    "Observação: não será é um gráfico muito elegante!"
   ]
  },
  {
   "cell_type": "code",
   "execution_count": 7,
   "metadata": {},
   "outputs": [
    {
     "data": {
      "image/png": "[encoded data removed]",
      "text/plain": [
       "<Figure size 640x480 with 1 Axes>"
      ]
     },
     "metadata": {},
     "output_type": "display_data"
    }
   ],
   "source": [
    "ePiso = 20   # -126\n",
    "eTeto = 25   #  127\n",
    "\n",
    "ulps = []\n",
    "\n",
    "graphX = range(ePiso,eTeto+1)\n",
    "\n",
    "for i in graphX:\n",
    "    x = 2**(i-23)\n",
    "    ulps.append(x)\n",
    "    \n",
    "fig, ax = plt.subplots()\n",
    "ax.set_ylabel('ulps - escala logaritmica')\n",
    "#ax.set_yscale('log')\n",
    "for index in range(len(graphX)):\n",
    "    ax.text(graphX[index], ulps[index]+0.1, ulps[index], size=12)\n",
    "ax.plot(graphX, ulps, linewidth=2.0)\n",
    "plt.show()\n"
   ]
  },
  {
   "cell_type": "markdown",
   "metadata": {},
   "source": [
    "#### E a soma sucessiva? \n",
    "\n"
   ]
  },
  {
   "cell_type": "code",
   "execution_count": 8,
   "metadata": {},
   "outputs": [
    {
     "name": "stdout",
     "output_type": "stream",
     "text": [
      "ULP: 1.1920928955078125e-07\n",
      "contador: 8.388.609 \n",
      " base_t0: 2.000000E+00 \n",
      " base_t1: 2.000000E+00\n"
     ]
    }
   ],
   "source": [
    "# soma sucessiva com parada != do anterior\n",
    "\n",
    "base_t0 = tipo_union()\n",
    "base_t1 = tipo_union()\n",
    "base_t0.float = -1.0\n",
    "base_t1.float = 1.0\n",
    "\n",
    "exp_d = 0\n",
    "inc = 2**(exp_d-23)          \n",
    "contador = 0\n",
    "\n",
    "print(\"ULP: {}\".format(inc))\n",
    "\n",
    "while( base_t0.float != base_t1.float): # comparação de floats com == ???? \n",
    "    base_t0.float = base_t1.float\n",
    "    base_t1.float = base_t1.float + inc\n",
    "    contador = contador + 1\n",
    "\n",
    "print(\"contador: {:,} \\n base_t0: {:E} \\n base_t1: {:E}\".format(contador, base_t0.float, base_t1.float).replace(\",\",\".\"))\n",
    "\n"
   ]
  },
  {
   "cell_type": "markdown",
   "metadata": {},
   "source": [
    "### Atividade 03: Soma sucessiva\n",
    "\n",
    "O código anterior da soma sucessiva finaliza após 8.388.609 iterações, o que é esperado. \n",
    "\n",
    "Porém, altere o código anterior para que `base_t1.float` inicie em: \n",
    "1. `base_t1.float = 2.0`, é necessário alterar o `exp_d` para o expoente que represente o 3.0\n",
    "2. `base_t1.float = 0.0`, e verifique o número de iterações.  \n",
    "    - Cuidado: o expoente continua sendo `exp_d = 0`, mesmo o 0.0 sendo um caso especial\n",
    "\n",
    "Porque no item `1.`, apesar do contador finalizar com o valor esperado de 8.388.609, os valores finalizaram em `2*base_t1.float`?  \n",
    "\n",
    "Porque no item `2.` o contador não foi o esperado e os valores finalizaram em `2.0`, semelhante ao código original com `base_t1.float = 1.0`?\n"
   ]
  },
  {
   "cell_type": "markdown",
   "metadata": {},
   "source": [
    "## Entrega\n",
    "\n",
    "O próprio arquivo ipynb no formato [OAC P02] nomeSobrenome1 nomeSobrenome2.ipynb com as células de saídas ativas.\n",
    "- Neste ipynb, adicione células markdown relatando o processo de solução implementado pela dupla\n",
    "  \n",
    "Via Teams, até a data especificada na própria Tarefa"
   ]
  },
  {
   "cell_type": "code",
   "execution_count": null,
   "metadata": {},
   "outputs": [],
   "source": []
  }
 ],
 "metadata": {
  "kernelspec": {
   "display_name": "Python 3 (ipykernel)",
   "language": "python",
   "name": "python3"
  },
  "language_info": {
   "codemirror_mode": {
    "name": "ipython",
    "version": 3
   },
   "file_extension": ".py",
   "mimetype": "text/x-python",
   "name": "python",
   "nbconvert_exporter": "python",
   "pygments_lexer": "ipython3",
   "version": "3.11.5"
  },
  "vscode": {
   "interpreter": {
    "hash": "916dbcbb3f70747c44a77c7bcd40155683ae19c65e1c03b4aa3499c5328201f1"
   }
  }
 },
 "nbformat": 4,
 "nbformat_minor": 2
}
